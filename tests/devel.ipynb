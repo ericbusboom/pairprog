{
 "cells": [
  {
   "cell_type": "code",
   "execution_count": 1,
   "id": "8e6f249e-e6e6-428c-bc4f-e6b2d80aa334",
   "metadata": {},
   "outputs": [],
   "source": [
    "%load_ext autoreload\n",
    "%autoreload 2"
   ]
  },
  {
   "cell_type": "code",
   "execution_count": 2,
   "id": "8b11f1de-f7d8-49e3-a970-933519c87a29",
   "metadata": {},
   "outputs": [],
   "source": [
    "from pairprog.objectstore import * \n",
    "from pairprog.assistant import * \n",
    "from pairprog.assistant  import logger as as_logger"
   ]
  },
  {
   "cell_type": "code",
   "execution_count": 3,
   "id": "16fc65bc-ea39-4704-82bf-14121673eddc",
   "metadata": {},
   "outputs": [],
   "source": [
    "import logging\n",
    "logging.basicConfig()\n",
    "as_logger.setLevel(logging.DEBUG)"
   ]
  },
  {
   "cell_type": "code",
   "execution_count": 4,
   "id": "177aead5-33b0-486f-9279-556808361d89",
   "metadata": {},
   "outputs": [],
   "source": [
    "rc = ObjectStore.new(name='barker_minio', bucket='agent')"
   ]
  },
  {
   "cell_type": "code",
   "execution_count": 29,
   "id": "c21c2768-1dca-4525-acd9-68b4c9a793be",
   "metadata": {},
   "outputs": [
    {
     "data": {
      "text/plain": [
       "1045"
      ]
     },
     "execution_count": 29,
     "metadata": {},
     "output_type": "execute_result"
    }
   ],
   "source": [
    "import typesense\n",
    "ts = typesense.Client(\n",
    "            {\n",
    "                \"api_key\": \"xyz\",\n",
    "                \"nodes\": [{\"host\": \"barker\", \"port\": \"8108\", \"protocol\": \"http\"}],\n",
    "                \"connection_timeout_seconds\": 1,\n",
    "            }\n",
    "        )\n",
    "\n",
    "tool = PPTools(ts, rc.sub('pptools'), Path('/Volumes/Cache/scratch'))\n",
    "\n",
    "assis = Assistant(tool, cache=rc)\n",
    "\n",
    "messages = [\n",
    "    {\"role\": \"user\", \"content\": 'tell me a joke'}\n",
    "]\n",
    "\n",
    "def dump(o):\n",
    "    import json \n",
    "    print( json.dumps(o.model_dump(), indent=2))\n",
    "    \n",
    "len(assis.tokenizer.encode(json.dumps(tool.specification())))"
   ]
  },
  {
   "cell_type": "code",
   "execution_count": 6,
   "id": "19c53e85-9630-427b-bf68-b8de5ca92237",
   "metadata": {},
   "outputs": [
    {
     "name": "stdout",
     "output_type": "stream",
     "text": [
      "execute_code\n",
      "faster_and_cheaper\n",
      "get_document\n",
      "read\n",
      "search_documents\n",
      "shell\n",
      "smarter\n",
      "store_document\n",
      "web_search\n",
      "write\n"
     ]
    }
   ],
   "source": [
    "for t in tool.specification():\n",
    "    print(t['function']['name'])"
   ]
  },
  {
   "cell_type": "code",
   "execution_count": 7,
   "id": "3616fde4-59b3-46a4-95f7-aef2244cca38",
   "metadata": {},
   "outputs": [
    {
     "name": "stdout",
     "output_type": "stream",
     "text": [
      "{'role': 'user', 'content': 'get smarter, then answer this question: Which program beat GPT-3.5 in the Turing Test'}\n",
      "-----\n",
      "{'role': 'assistant', 'content': ''}\n",
      "-----\n",
      "{'content': '', 'function_call': None, 'role': 'assistant', 'tool_calls': [{'index': 0, 'id': 'call_3BpUK9gBb3WIhFfPRoalK45b', 'function': {'arguments': '{\"text\":\"Which program beat GPT-3.5 in the Turing Test?\"}', 'name': 'smarter'}, 'type': 'function'}]}\n",
      "-----\n",
      "{'tool_call_id': 'call_3BpUK9gBb3WIhFfPRoalK45b', 'role': 'tool', 'name': 'smarter', 'content': 'I am now smarter'}\n",
      "-----\n",
      "{'role': 'assistant', 'content': 'There isn\\'t a clear answer to which specific program \"beat\" GPT-3.5 in the Turing Test—partly because the Turing Test is not a standardized benchmark and partly because there are many interpretations of what \"beating\" the test means. It\\'s pivotal to understand that the Turing Test, proposed by Alan Turing in his 1950 paper \"Computing Machinery and Intelligence,\" is a qualitative measure of a machine\\'s ability to exhibit intelligent behavior indistinguishable from that of a human.\\n\\nSince the release of GPT-3.5, there have likely been advances and new models designed to achieve even greater natural language understanding and generation. For example, OpenAI has released GPT-4, which is an improvement over GPT-3.5. Other organizations and research entities might also have developed their own advanced models, but without a publicly recognized contest or comparison, it\\'s hard to designate a specific \"winner\" against GPT-3.5.\\n\\nAs of the time of my last training data in April 2023, if there have been new developments, I would need to search for the latest information to provide a specific answer. Would you like me to do that?'}\n",
      "-----\n"
     ]
    }
   ],
   "source": [
    "def get_sessions():\n",
    "    \n",
    "    sessions = set(e.split('/')[0] for e in list(rc.sub('session').list()))\n",
    "    return list(reversed(sorted(sessions)))\n",
    "\n",
    "def get_last_src():\n",
    "\n",
    "    last_session  = get_sessions()[0]\n",
    "    src = rc.sub('session/'+last_session)\n",
    "    return src\n",
    "\n",
    "def dump_sessions():\n",
    "    last_session  = get_sessions()[-3]\n",
    "    src = rc.sub('session/'+last_session)\n",
    "    for e in src['responses']:\n",
    "        print(e)\n",
    "        print('-----')\n",
    "\n",
    "src = get_last_src()\n",
    "\n",
    "for e in src['messages']:\n",
    "    print(e)\n",
    "    print('-----')\n"
   ]
  },
  {
   "cell_type": "code",
   "execution_count": 12,
   "id": "880e4e84-e3f0-4ff4-ae5d-2784b1a5b366",
   "metadata": {},
   "outputs": [
    {
     "data": {
      "text/plain": [
       "12289"
      ]
     },
     "execution_count": 12,
     "metadata": {},
     "output_type": "execute_result"
    }
   ],
   "source": [
    "assis.token_limit"
   ]
  },
  {
   "cell_type": "code",
   "execution_count": 64,
   "id": "1b0272cd-e79b-4580-a23d-39e21ee18a1e",
   "metadata": {},
   "outputs": [
    {
     "data": {
      "text/plain": [
       "[{'page_name': 'Thomas Edison',\n",
       "  'pageid': '29778',\n",
       "  'store_document_uri': 'wiki:29778',\n",
       "  'url': 'https://en.wikipedia.org/wiki/Thomas_Edison',\n",
       "  'summary': 'Thomas Alva Edison (February 11, 1847 – October 18, 1931) was an American inventor and businessman. He developed many devices in fields such as electric power generation, mass communication, sound recording, and motion pictures. These inventions, which include the phonograph, the motion picture camera, and early versions of the electric light bulb, have had a widespread impact on the modern indust'},\n",
       " {'page_name': 'Thomas Edison State University',\n",
       "  'pageid': '295279',\n",
       "  'store_document_uri': 'wiki:295279',\n",
       "  'url': 'https://en.wikipedia.org/wiki/Thomas_Edison_State_University',\n",
       "  'summary': \"Thomas Edison State University (TESU) is a public university in Trenton, New Jersey. The university is one of New Jersey's 11 senior public institutions of higher education. Thomas Edison State University offers degrees at the undergraduate and graduate level.\\n\\n\"},\n",
       " {'page_name': 'Thomas Alva Edison Memorial Tower and Museum',\n",
       "  'pageid': '1574720',\n",
       "  'store_document_uri': 'wiki:1574720',\n",
       "  'url': 'https://en.wikipedia.org/wiki/Thomas_Alva_Edison_Memorial_Tower_and_Museum',\n",
       "  'summary': \"The Thomas Edison Center at Menlo Park, also known as the Menlo Park Museum / Edison Memorial Tower,  is a memorial to inventor and businessman Thomas Alva Edison, located in the Menlo Park area of Edison, Middlesex County, New Jersey. The tower was dedicated on February 11, 1938, on what would have been the inventor's 91st birthday.\\nThe tower marks the location of Edison's Menlo Park laboratory, \"},\n",
       " {'page_name': 'Thomas A. Edison, Inc.',\n",
       "  'pageid': '13083649',\n",
       "  'store_document_uri': 'wiki:13083649',\n",
       "  'url': 'https://en.wikipedia.org/wiki/Thomas_A._Edison,_Inc.',\n",
       "  'summary': 'Thomas A. Edison, Incorporated (originally the National Phonograph Company) was the main holding company for the various manufacturing companies established by the inventor and entrepreneur Thomas Edison. It was a successor to Edison Manufacturing Company and operated between 1911 and 1957, when it merged with McGraw Electric to form McGraw-Edison.'},\n",
       " {'page_name': 'Continental Edison',\n",
       "  'pageid': '72094780',\n",
       "  'store_document_uri': 'wiki:72094780',\n",
       "  'url': 'https://en.wikipedia.org/wiki/Continental_Edison',\n",
       "  'summary': 'The Continental Edison is a French manufacturing and marketing company of electrical equipment established in 1882 by Thomas Edison.'},\n",
       " {'page_name': 'Edison light bulb',\n",
       "  'pageid': '45698507',\n",
       "  'store_document_uri': 'wiki:45698507',\n",
       "  'url': 'https://en.wikipedia.org/wiki/Edison_light_bulb',\n",
       "  'summary': 'Edison light bulbs, also known as filament light bulbs and retroactively referred to as antique light bulbs or vintage light bulbs, are either carbon- or early tungsten-filament incandescent light bulbs, or modern bulbs that reproduce their appearance. Most of the bulbs in circulation are reproductions of the wound filament bulbs made popular by Edison Electric Light Company at the turn of the 20t'},\n",
       " {'page_name': 'Mina Miller Edison',\n",
       "  'pageid': '69216282',\n",
       "  'store_document_uri': 'wiki:69216282',\n",
       "  'url': 'https://en.wikipedia.org/wiki/Mina_Miller_Edison',\n",
       "  'summary': 'Mina Miller Edison (July 6, 1865 – August 24, 1947) was an American community activist and the second wife of inventor and industrialist Thomas Edison. She was a community activist in Fort Myers, Florida, known for her work advancing the use of public spaces and education initiatives.'},\n",
       " {'page_name': 'Thomas Edison House',\n",
       "  'pageid': '6807344',\n",
       "  'store_document_uri': 'wiki:6807344',\n",
       "  'url': 'https://en.wikipedia.org/wiki/Thomas_Edison_House',\n",
       "  'summary': 'Thomas Edison House is a historic house located in the Butchertown neighborhood of Louisville, Kentucky. The house is a shotgun duplex built around 1850. Thomas Edison took up residence in the same neighborhood, possibly even at this location, a part of the time he lived in Louisville from 1866 to 1867.  The house features a museum that honors Edison and his inventions.\\n\\n'},\n",
       " {'page_name': 'Charles Edison',\n",
       "  'pageid': '209522',\n",
       "  'store_document_uri': 'wiki:209522',\n",
       "  'url': 'https://en.wikipedia.org/wiki/Charles_Edison',\n",
       "  'summary': 'Charles Edison (August 3, 1890 – July 31, 1969) was an American politician. He was the Assistant and then United States Secretary of the Navy, and served as the 42nd governor of New Jersey. Commonly known as \"Lord Edison\", he was a son of Thomas Edison and Mina Miller Edison.'},\n",
       " {'page_name': 'USS Thomas A. Edison',\n",
       "  'pageid': '407679',\n",
       "  'store_document_uri': 'wiki:407679',\n",
       "  'url': 'https://en.wikipedia.org/wiki/USS_Thomas_A._Edison',\n",
       "  'summary': 'USS Thomas A. Edison (SSBN-610), an Ethan Allen-class nuclear-powered ballistic missile submarine, was the second ship of the United States Navy to be named for the inventor Thomas Edison (1847–1931).'}]"
      ]
     },
     "execution_count": 64,
     "metadata": {},
     "output_type": "execute_result"
    }
   ],
   "source": [
    "tool.wikipedia_search('Thomas Edison')"
   ]
  },
  {
   "cell_type": "code",
   "execution_count": 67,
   "id": "a306879d-ba9d-4d96-9c50-5ecb68bbd3c1",
   "metadata": {},
   "outputs": [
    {
     "data": {
      "text/plain": [
       "{'title': 'Thomas Alva Edison (February 11, 1847 – October 18, 1931) was an American inventor and businessman. He developed many devices in fields such as electric power generation, mass communication, sound recording, and motion pictures. These inventions, which include the phonograph, the motion picture',\n",
       " 'source': 'wiki:29778',\n",
       " 'chunks': 26}"
      ]
     },
     "execution_count": 67,
     "metadata": {},
     "output_type": "execute_result"
    }
   ],
   "source": [
    "tool.store_document(source='wiki:29778')"
   ]
  },
  {
   "cell_type": "code",
   "execution_count": 70,
   "id": "a7b0f76e-8817-4f31-936d-3ea2380644de",
   "metadata": {},
   "outputs": [
    {
     "data": {
      "text/plain": [
       "{'chunk': 6,\n",
       " 'description': 'Thomas Alva Edison (February 11, 1847 – October 18, 1931) was an American inventor and businessman. He developed many devices in fields such as electric power generation, mass communication, sound recording, and motion pictures. These inventions, whi',\n",
       " 'id': '198',\n",
       " 'source': 'wiki:29778',\n",
       " 'text': 'In 1878, Edison began working on a system of electrical illumination, something he hoped could compete with gas and oil-based lighting. He began by tackling the problem of creating a long-lasting incandescent lamp, something that would be needed for indoor use. However, Thomas Edison did\\nnot invent the light bulb. In 1840, British scientist Warren de la Rue developed an efficient light bulb using a coiled platinum filament but the high cost of platinum kept the bulb from becoming a commercial success. Many other inventors had also devised incandescent lamps,\\nincluding Alessandro Volta\\'s demonstration of a glowing wire in 1800 and inventions by Henry Woodward and Mathew Evans. Others who developed early and commercially impractical incandescent electric lamps included Humphry Davy, James Bowman Lindsay, Moses G. Farmer, William E. Sawyer, Joseph Swan, and Heinrich Göbel.\\nThese early bulbs all had flaws such as an extremely short life and requiring a high electric current to operate which made them difficult to apply on a large scale commercially.: 217–218 In his first attempts to solve these problems, Edison tried\\nusing a filament made of cardboard, carbonized with compressed lampblack. This burnt out too quickly to provide lasting light. He then experimented with different grasses and canes such as hemp, and palmetto, before settling on bamboo as the best filament. Edison continued\\ntrying to improve this design and on November 4, 1879, filed for U.S. patent 223,898 (granted on January 27, 1880) for an electric lamp using \"a carbon filament or strip coiled and connected to platina contact wires\".The patent described several ways of\\ncreating the carbon filament including \"cotton and linen thread, wood splints, papers coiled in various ways\". It was not until several months after the patent was granted that Edison and his team discovered that a carbonized bamboo filament could last over 1,200\\nhours.\\nIn 1878, Edison formed the Edison Electric Light Company in New York City with several financiers, including J. P. Morgan, Spencer Trask, and the members of the Vanderbilt family. Edison made the first public demonstration of his incandescent light bulb on December 31, 1879, in Menlo Park. It was during this time that he said: \"We will make electricity so cheap that only the rich will burn candles.\"\\nHenry Villard, president of the Oregon Railroad and Navigation Company, attended Edison\\'s 1879 demonstration. Villard was impressed and requested Edison install his electric lighting system aboard Villard\\'s company\\'s new steamer, the Columbia. Although hesitant at first, Edison agreed to Villard\\'s request. Most of the',\n",
       " 'title': 'Thomas Alva Edison (February 11, 1847 – October 18, 1931) was an American inventor and businessman. He developed many devices in fields such as electric power generation, mass communication, sound recording, and motion pictures. These inventions, which include the phonograph, the motion picture',\n",
       " '_text_match_info': {'best_field_score': '0',\n",
       "  'best_field_weight': 0,\n",
       "  'fields_matched': 0,\n",
       "  'score': '0',\n",
       "  'tokens_matched': 0,\n",
       "  'rank_fusion_score': 0.10000000149011612,\n",
       "  'text_match': 0,\n",
       "  'vector_distance': 0.24183988571166992}}"
      ]
     },
     "execution_count": 70,
     "metadata": {},
     "output_type": "execute_result"
    }
   ],
   "source": [
    "tool.search_documents('light blub', 2)"
   ]
  },
  {
   "cell_type": "code",
   "execution_count": null,
   "id": "2841bc63-059a-4dd1-bc44-71195cd149cd",
   "metadata": {},
   "outputs": [],
   "source": []
  }
 ],
 "metadata": {
  "kernelspec": {
   "display_name": "Python 3 (ipykernel)",
   "language": "python",
   "name": "python3"
  },
  "language_info": {
   "codemirror_mode": {
    "name": "ipython",
    "version": 3
   },
   "file_extension": ".py",
   "mimetype": "text/x-python",
   "name": "python",
   "nbconvert_exporter": "python",
   "pygments_lexer": "ipython3",
   "version": "3.11.6"
  }
 },
 "nbformat": 4,
 "nbformat_minor": 5
}
