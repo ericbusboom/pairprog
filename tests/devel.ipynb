{
 "cells": [
  {
   "cell_type": "code",
   "execution_count": 1,
   "id": "8e6f249e-e6e6-428c-bc4f-e6b2d80aa334",
   "metadata": {},
   "outputs": [],
   "source": [
    "%load_ext autoreload\n",
    "%autoreload 2"
   ]
  },
  {
   "cell_type": "code",
   "execution_count": 2,
   "id": "8b11f1de-f7d8-49e3-a970-933519c87a29",
   "metadata": {},
   "outputs": [],
   "source": [
    "from pairprog.objectstore import * \n",
    "from pairprog.assistant import * \n",
    "from pairprog.assistant  import logger as as_logger"
   ]
  },
  {
   "cell_type": "code",
   "execution_count": 3,
   "id": "16fc65bc-ea39-4704-82bf-14121673eddc",
   "metadata": {},
   "outputs": [],
   "source": [
    "import logging\n",
    "logging.basicConfig()\n",
    "as_logger.setLevel(logging.DEBUG)"
   ]
  },
  {
   "cell_type": "code",
   "execution_count": 4,
   "id": "177aead5-33b0-486f-9279-556808361d89",
   "metadata": {},
   "outputs": [],
   "source": [
    "rc = ObjectStore.new(name='barker_minio', bucket='agent')"
   ]
  },
  {
   "cell_type": "code",
   "execution_count": 5,
   "id": "c21c2768-1dca-4525-acd9-68b4c9a793be",
   "metadata": {},
   "outputs": [
    {
     "data": {
      "text/plain": [
       "1311"
      ]
     },
     "execution_count": 5,
     "metadata": {},
     "output_type": "execute_result"
    }
   ],
   "source": [
    "import typesense\n",
    "ts = typesense.Client(\n",
    "            {\n",
    "                \"api_key\": \"xyz\",\n",
    "                \"nodes\": [{\"host\": \"barker\", \"port\": \"8108\", \"protocol\": \"http\"}],\n",
    "                \"connection_timeout_seconds\": 1,\n",
    "            }\n",
    "        )\n",
    "\n",
    "tool = PPTools(ts, rc.sub('pptools'), Path('/Volumes/Cache/scratch'))\n",
    "\n",
    "assis = Assistant(tool, cache=rc)\n",
    "\n",
    "messages = [\n",
    "    {\"role\": \"user\", \"content\": 'tell me a joke'}\n",
    "]\n",
    "\n",
    "def dump(o):\n",
    "    import json \n",
    "    print( json.dumps(o.model_dump(), indent=2))\n",
    "    \n",
    "len(assis.tokenizer.encode(json.dumps(tool.specification())))"
   ]
  },
  {
   "cell_type": "code",
   "execution_count": 6,
   "id": "19c53e85-9630-427b-bf68-b8de5ca92237",
   "metadata": {},
   "outputs": [
    {
     "name": "stdout",
     "output_type": "stream",
     "text": [
      "execute_python\n",
      "faster_and_cheaper\n",
      "get_document\n",
      "read_file\n",
      "search_documents\n",
      "shell\n",
      "smarter\n",
      "specification\n",
      "store_document\n",
      "system_message\n",
      "web_search\n",
      "wikipedia_page\n",
      "wikipedia_search\n",
      "write_file\n"
     ]
    }
   ],
   "source": [
    "for t in tool.specification():\n",
    "    print(t['function']['name'])"
   ]
  },
  {
   "cell_type": "code",
   "execution_count": 7,
   "id": "3616fde4-59b3-46a4-95f7-aef2244cca38",
   "metadata": {},
   "outputs": [
    {
     "name": "stdout",
     "output_type": "stream",
     "text": [
      "{'role': 'user', 'content': 'what time will it be in one and one half hours? I am in the Pacific Time Zone, and find the time yourself. '}\n",
      "-----\n",
      "{'role': 'assistant', 'content': ''}\n",
      "-----\n",
      "{'content': '', 'function_call': None, 'role': 'assistant', 'tool_calls': [{'index': 0, 'id': 'call_9UM4svioDXFK8oC3gngq1xiG', 'function': {'arguments': '{\\n  \"code\": \"from datetime import datetime, timedelta\\\\nfrom pytz import timezone\\\\n\\\\n# Set the timezone\\\\ntime_zone = timezone(\\'US/Pacific\\')\\\\n\\\\n# Get the current time in the specified timezone\\\\ncurrent_time = datetime.now(time_zone)\\\\n\\\\n# Add 1.5 hours to the current time\\\\nfuture_time = current_time + timedelta(hours=1.5)\\\\n\\\\nfuture_time.strftime(\\'%Y-%m-%d %H:%M:%S\\')\"\\n}', 'name': 'execute_python'}, 'type': 'function'}]}\n",
      "-----\n",
      "{'tool_call_id': 'call_9UM4svioDXFK8oC3gngq1xiG', 'role': 'tool', 'name': 'execute_python', 'content': \"unsupported operand type(s) for +: 'NoneType' and 'str'\"}\n",
      "-----\n",
      "{'role': 'assistant', 'content': ''}\n",
      "-----\n",
      "{'content': '', 'function_call': None, 'role': 'assistant', 'tool_calls': [{'index': 0, 'id': 'call_IcOiwBWpNf7XYw71E2BLUJpj', 'function': {'arguments': '{\\n  \"code\": \"from datetime import datetime, timedelta\\\\nimport pytz\\\\n\\\\n# Get the current time in Pacific Time Zone\\\\npacific = pytz.timezone(\\'US/Pacific\\')\\\\ncurrent_time = datetime.now(pacific)\\\\n\\\\n# Add one and a half hours to the current time\\\\ntime_in_one_and_half_hours = current_time + timedelta(hours=1.5)\\\\n\\\\ntime_in_one_and_half_hours.strftime(\\'%Y-%m-%d %H:%M:%S\\')\"\\n}', 'name': 'execute_python'}, 'type': 'function'}]}\n",
      "-----\n",
      "{'tool_call_id': 'call_IcOiwBWpNf7XYw71E2BLUJpj', 'role': 'tool', 'name': 'execute_python', 'content': \"unsupported operand type(s) for +: 'NoneType' and 'str'\"}\n",
      "-----\n",
      "{'role': 'assistant', 'content': ''}\n",
      "-----\n"
     ]
    }
   ],
   "source": [
    "def get_sessions():\n",
    "    \n",
    "    sessions = set(e.split('/')[0] for e in list(rc.sub('session').list()))\n",
    "    return list(reversed(sorted(sessions)))\n",
    "\n",
    "def get_last_src():\n",
    "\n",
    "    last_session  = get_sessions()[0]\n",
    "    src = rc.sub('session/'+last_session)\n",
    "    return src\n",
    "\n",
    "def dump_sessions():\n",
    "    last_session  = get_sessions()[-3]\n",
    "    src = rc.sub('session/'+last_session)\n",
    "    for e in src['responses']:\n",
    "        print(e)\n",
    "        print('-----')\n",
    "\n",
    "src = get_last_src()\n",
    "\n",
    "for e in src['messages']:\n",
    "    print(e)\n",
    "    print('-----')\n"
   ]
  },
  {
   "cell_type": "code",
   "execution_count": 8,
   "id": "b210d9aa-32ee-4c1c-bbe2-c529326a9a97",
   "metadata": {},
   "outputs": [
    {
     "data": {
      "text/plain": [
       "<pairprog.taskmachine.TaskManager at 0x10a9cd890>"
      ]
     },
     "execution_count": 8,
     "metadata": {},
     "output_type": "execute_result"
    }
   ],
   "source": [
    "from pathlib import Path\n",
    "from pairprog.taskmachine import TaskManager\n",
    "tm = TaskManager(None, None, Path.cwd())\n",
    "tm"
   ]
  },
  {
   "cell_type": "code",
   "execution_count": 9,
   "id": "5bc6c377-331f-4f1b-861e-fed681842c8d",
   "metadata": {},
   "outputs": [
    {
     "name": "stdout",
     "output_type": "stream",
     "text": [
      "from datetime import datetime, timedelta\n",
      "import pytz\n",
      "\n",
      "# Get the current time in Pacific Time Zone\n",
      "pacific = pytz.timezone('US/Pacific')\n",
      "current_time = datetime.now(pacific)\n",
      "\n",
      "# Add one and a half hours to the current time\n",
      "time_in_one_and_half_hours = current_time + timedelta(hours=1.5)\n",
      "\n",
      "time_in_one_and_half_hours.strftime('%Y-%m-%d %H:%M:%S')\n"
     ]
    }
   ],
   "source": [
    "print(\"from datetime import datetime, timedelta\\nimport pytz\\n\\n# Get the current time in Pacific Time Zone\\npacific = pytz.timezone('US/Pacific')\\ncurrent_time = datetime.now(pacific)\\n\\n# Add one and a half hours to the current time\\ntime_in_one_and_half_hours = current_time + timedelta(hours=1.5)\\n\\ntime_in_one_and_half_hours.strftime('%Y-%m-%d %H:%M:%S')\")"
   ]
  },
  {
   "cell_type": "code",
   "execution_count": 12,
   "id": "cee49c4b-0d31-4b93-80fa-efbfc7395184",
   "metadata": {},
   "outputs": [
    {
     "data": {
      "text/plain": [
       "'2023-11-29 17:15:12'"
      ]
     },
     "execution_count": 12,
     "metadata": {},
     "output_type": "execute_result"
    }
   ],
   "source": [
    "z = \"\"\"from datetime import datetime, timedelta\n",
    "import pytz\n",
    "\n",
    "# Get the current time in Pacific Time Zone\n",
    "pacific = pytz.timezone('US/Pacific')\n",
    "current_time = datetime.now(pacific)\n",
    "\n",
    "# Add one and a half hours to the current time\n",
    "time_in_one_and_half_hours = current_time + timedelta(hours=1.5)\n",
    "\n",
    "time_in_one_and_half_hours.strftime('%Y-%m-%d %H:%M:%S')\"\"\"\n",
    "tool.execute_python (code=z)"
   ]
  },
  {
   "cell_type": "code",
   "execution_count": 15,
   "id": "45a1412c-4148-4ed9-b552-4807054d183d",
   "metadata": {},
   "outputs": [
    {
     "name": "stdout",
     "output_type": "stream",
     "text": [
      "!!!!! <bound method PPTools.execute_python of <pairprog.tool.PPTools object at 0x10bc14e90>>\n",
      "!!!!!! {'code': {'code': \"from datetime import timedelta, datetime\\nfrom pytz import timezone\\n\\n# Get current time\\npacific = timezone('US/Pacific')\\nnow = datetime.now(pacific)\\n\\n# Add one and a half hours to current time\\nfuture_time = now + timedelta(hours=1.5)\\nfuture_time.strftime('%Y-%m-%d %H:%M:%S')\"}}\n",
      "!!!!! code {'code': \"from datetime import timedelta, datetime\\nfrom pytz import timezone\\n\\n# Get current time\\npacific = timezone('US/Pacific')\\nnow = datetime.now(pacific)\\n\\n# Add one and a half hours to current time\\nfuture_time = now + timedelta(hours=1.5)\\nfuture_time.strftime('%Y-%m-%d %H:%M:%S')\"} must be a string\n"
     ]
    },
    {
     "data": {
      "text/plain": [
       "'code {\\'code\\': \"from datetime import timedelta, datetime\\\\nfrom pytz import timezone\\\\n\\\\n# Get current time\\\\npacific = timezone(\\'US/Pacific\\')\\\\nnow = datetime.now(pacific)\\\\n\\\\n# Add one and a half hours to current time\\\\nfuture_time = now + timedelta(hours=1.5)\\\\nfuture_time.strftime(\\'%Y-%m-%d %H:%M:%S\\')\"} must be a string'"
      ]
     },
     "execution_count": 15,
     "metadata": {},
     "output_type": "execute_result"
    }
   ],
   "source": [
    "tool.run_tool('execute_python', {'code': z})"
   ]
  },
  {
   "cell_type": "code",
   "execution_count": 17,
   "id": "524e107a-9434-4689-b142-ae2491fe9ef1",
   "metadata": {},
   "outputs": [
    {
     "data": {
      "text/plain": [
       "'2023-11-29 17:21:05'"
      ]
     },
     "execution_count": 17,
     "metadata": {},
     "output_type": "execute_result"
    }
   ],
   "source": [
    "t = {'code': \"from datetime import timedelta, datetime\\nfrom pytz import timezone\\n\\n# Get current time\\npacific = timezone('US/Pacific')\\nnow = datetime.now(pacific)\\n\\n# Add one and a half hours to current time\\nfuture_time = now + timedelta(hours=1.5)\\nfuture_time.strftime('%Y-%m-%d %H:%M:%S')\"}\n",
    "tool.execute_python(**t)"
   ]
  },
  {
   "cell_type": "code",
   "execution_count": 5,
   "id": "77524dd9-ddfd-471f-a5f4-56af4888eceb",
   "metadata": {},
   "outputs": [
    {
     "data": {
      "text/plain": [
       "'C'"
      ]
     },
     "execution_count": 5,
     "metadata": {},
     "output_type": "execute_result"
    }
   ],
   "source": [
    "from pairprog.tool import * \n",
    "\n",
    "def m( line, task_state):\n",
    "    match line, task_state:\n",
    "        case (None,''),TaskState.NONE: # No line, not in task\n",
    "            return \"A\"\n",
    "        case _,TaskState.NONE: # Line, in task\n",
    "            return \"A2\"\n",
    "        case _, TaskState.ANALYZE: \n",
    "            return \"B\"\n",
    "        case _, TaskState.INTASK:\n",
    "            return \"C\"\n",
    "        case _, TaskState.AUTO_CONTINUE:\n",
    "            return \"D\"\n",
    "        case _,_:\n",
    "            return \"DEFAULT\"\n",
    "\n",
    "\n",
    "m('lello', TaskState.INTASK)"
   ]
  },
  {
   "cell_type": "code",
   "execution_count": null,
   "id": "7bd43bb9-cdf2-49fd-b0c1-7af91dd1ddd7",
   "metadata": {},
   "outputs": [],
   "source": []
  }
 ],
 "metadata": {
  "kernelspec": {
   "display_name": "Python 3 (ipykernel)",
   "language": "python",
   "name": "python3"
  },
  "language_info": {
   "codemirror_mode": {
    "name": "ipython",
    "version": 3
   },
   "file_extension": ".py",
   "mimetype": "text/x-python",
   "name": "python",
   "nbconvert_exporter": "python",
   "pygments_lexer": "ipython3",
   "version": "3.11.6"
  }
 },
 "nbformat": 4,
 "nbformat_minor": 5
}
