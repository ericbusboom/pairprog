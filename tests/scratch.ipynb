{
 "cells": [
  {
   "cell_type": "code",
   "execution_count": 1,
   "id": "8e6f249e-e6e6-428c-bc4f-e6b2d80aa334",
   "metadata": {},
   "outputs": [],
   "source": [
    "%load_ext autoreload\n",
    "%autoreload 2"
   ]
  },
  {
   "cell_type": "code",
   "execution_count": 2,
   "id": "8b11f1de-f7d8-49e3-a970-933519c87a29",
   "metadata": {},
   "outputs": [],
   "source": [
    "from pairprog.objectstore import * \n",
    "from pairprog.assistant import * \n",
    "from pairprog.assistant  import logger as as_logger"
   ]
  },
  {
   "cell_type": "code",
   "execution_count": 3,
   "id": "16fc65bc-ea39-4704-82bf-14121673eddc",
   "metadata": {},
   "outputs": [],
   "source": [
    "import logging\n",
    "logging.basicConfig()\n",
    "as_logger.setLevel(logging.DEBUG)"
   ]
  },
  {
   "cell_type": "code",
   "execution_count": 4,
   "id": "177aead5-33b0-486f-9279-556808361d89",
   "metadata": {},
   "outputs": [],
   "source": [
    "rc = ObjectStore.new(name='barker_minio', bucket='agent')"
   ]
  },
  {
   "cell_type": "code",
   "execution_count": 5,
   "id": "c21c2768-1dca-4525-acd9-68b4c9a793be",
   "metadata": {},
   "outputs": [],
   "source": [
    "import typesense\n",
    "ts = typesense.Client(\n",
    "            {\n",
    "                \"api_key\": \"xyz\",\n",
    "                \"nodes\": [{\"host\": \"barker\", \"port\": \"8108\", \"protocol\": \"http\"}],\n",
    "                \"connection_timeout_seconds\": 1,\n",
    "            }\n",
    "        )\n",
    "\n",
    "tool = PPTools(ts, rc.sub('pptools'), Path('/Volumes/Cache/scratch'))\n",
    "\n",
    "assis = Assistant(tool, cache=rc)\n",
    "\n",
    "messages = [\n",
    "    {\"role\": \"user\", \"content\": 'tell me a joke'}\n",
    "]\n",
    "\n",
    "def dump(o):\n",
    "    import json \n",
    "    print( json.dumps(o.model_dump(), indent=2))\n"
   ]
  },
  {
   "cell_type": "code",
   "execution_count": 6,
   "id": "19c53e85-9630-427b-bf68-b8de5ca92237",
   "metadata": {},
   "outputs": [
    {
     "name": "stdout",
     "output_type": "stream",
     "text": [
      "execute_code\n",
      "get_document\n",
      "read\n",
      "search_documents\n",
      "shell\n",
      "store_document\n",
      "write\n"
     ]
    }
   ],
   "source": [
    "for t in tool.specification():\n",
    "    print(t['function']['name'])"
   ]
  },
  {
   "cell_type": "code",
   "execution_count": 7,
   "id": "3616fde4-59b3-46a4-95f7-aef2244cca38",
   "metadata": {},
   "outputs": [
    {
     "name": "stdout",
     "output_type": "stream",
     "text": [
      "{'role': 'user', 'content': 'what time is it'}\n",
      "-----\n",
      "{'content': '', 'function_call': None, 'role': 'assistant', 'tool_calls': [{'index': 0, 'id': 'call_zYr5Exnr0noGOo2eOj9BIYEe', 'function': {'arguments': '{\"command\":\"date +%T\"}', 'name': 'shell'}, 'type': 'function'}]}\n",
      "-----\n",
      "{'tool_call_id': 'call_zYr5Exnr0noGOo2eOj9BIYEe', 'role': 'tool', 'name': 'shell', 'content': '20:29:04\\n'}\n",
      "-----\n"
     ]
    }
   ],
   "source": [
    "def get_sessions():\n",
    "    \n",
    "    sessions = set(e.split('/')[0] for e in list(rc.sub('session').list()))\n",
    "    return list(reversed(sorted(sessions)))\n",
    "\n",
    "def get_last_src():\n",
    "\n",
    "    last_session  = get_sessions()[0]\n",
    "    src = rc.sub('session/'+last_session)\n",
    "    return src\n",
    "\n",
    "def dump_sessions():\n",
    "    last_session  = get_sessions()[-3]\n",
    "    src = rc.sub('session/'+last_session)\n",
    "    for e in src['responses']:\n",
    "        print(e)\n",
    "        print('-----')\n",
    "\n",
    "src = get_last_src()\n",
    "\n",
    "for e in src['messages']:\n",
    "    print(e)\n",
    "    print('-----')\n"
   ]
  },
  {
   "cell_type": "code",
   "execution_count": 8,
   "id": "ce7fe89f-6971-43ce-b4c2-7feba0ececb4",
   "metadata": {},
   "outputs": [],
   "source": [
    "if False:\n",
    "    for k in src.list('loop/post/'):\n",
    "        o = src[k]\n",
    "        print(json.dumps(o, indent=2))\n",
    "    \n",
    "\n",
    "def dump_last_tool_calls():\n",
    "    for k in src.list('loop/tool_call'):\n",
    "        o = src[k]\n",
    "        print(o)\n",
    "        try:\n",
    "            \n",
    "            a = o['args']\n",
    "            args = json.loads(a)\n",
    "            print(args['code'])\n",
    "        except:\n",
    "            pass\n",
    "    \n",
    "        try:\n",
    "            \n",
    "            a = o['args']\n",
    "            args = json.loads(a)\n",
    "            print(args['path'])\n",
    "        except:\n",
    "            pass\n",
    "        \n",
    "        print('========')"
   ]
  },
  {
   "cell_type": "code",
   "execution_count": 84,
   "id": "09c36f6b-c0ce-4427-bd18-9619f0ff6f5a",
   "metadata": {},
   "outputs": [
    {
     "name": "stdout",
     "output_type": "stream",
     "text": [
      "The temperature difference between the poles and the equator is primarily due to the angle of the Sun's rays and the distribution of solar energy. Here's an explanation:\n",
      "\n",
      "1. Angle of Sun's Rays: Near the equator, the Sun's rays are more direct, meaning they cover a shorter distance through the atmosphere. This results in a higher concentration of solar energy and greater heating. At the poles, the Sun's rays are at a much lower angle, leading to a more scattered distribution of solar energy and less heating.\n",
      "\n",
      "2. Length of Daylight: Near the poles, the length of daylight varies significantly throughout the year, with extensive periods of continuous darkness during the winter months. This leads to longer and harsher winters with minimal heating from the Sun.\n",
      "\n",
      "3. Atmospheric Circulation: The Earth's rotation and the tilt of its axis create global wind patterns. Near the equator, warm air rises and moves toward the poles, while cold air sinks and flows towards the equator. This results in a general distribution of warmer air toward the poles and cooler air towards the equator.\n",
      "\n",
      "I will now save this answer to the file \"weather.txt.\""
     ]
    }
   ],
   "source": [
    "messages = [\n",
    "    { \"role\": \"user\", \"content\": \"Why is the weather colder near the poles than near the equator? Explain it to me, then save \"+\n",
    "    \"your answer to the file weather.txt\"}\n",
    "]\n",
    "\n",
    "assis.messages = messages\n",
    "\n",
    "g = assis.client.chat.completions.create(\n",
    "                messages=assis.messages,\n",
    "                tools=assis.func_spec,\n",
    "                model=assis.model,\n",
    "                stream=True,\n",
    "                timeout=10\n",
    "            )\n",
    "\n",
    "\n",
    "chunk, responses = assis.process_streamed_response(g, call_back=assis.print_content_cb)\n"
   ]
  },
  {
   "cell_type": "code",
   "execution_count": 86,
   "id": "c6b66879-6032-4196-a6d1-e99950d76c30",
   "metadata": {},
   "outputs": [
    {
     "data": {
      "text/plain": [
       "{'content': 'The temperature difference between the poles and the equator is primarily due to the angle of the Sun\\'s rays and the distribution of solar energy. Here\\'s an explanation:\\n\\n1. Angle of Sun\\'s Rays: Near the equator, the Sun\\'s rays are more direct, meaning they cover a shorter distance through the atmosphere. This results in a higher concentration of solar energy and greater heating. At the poles, the Sun\\'s rays are at a much lower angle, leading to a more scattered distribution of solar energy and less heating.\\n\\n2. Length of Daylight: Near the poles, the length of daylight varies significantly throughout the year, with extensive periods of continuous darkness during the winter months. This leads to longer and harsher winters with minimal heating from the Sun.\\n\\n3. Atmospheric Circulation: The Earth\\'s rotation and the tilt of its axis create global wind patterns. Near the equator, warm air rises and moves toward the poles, while cold air sinks and flows towards the equator. This results in a general distribution of warmer air toward the poles and cooler air towards the equator.\\n\\nI will now save this answer to the file \"weather.txt.\"',\n",
       " 'function_call': None,\n",
       " 'role': 'assistant',\n",
       " 'tool_calls': [{'index': 0,\n",
       "   'id': 'call_FkLSYp1SdA67yPrTu4VtpkRt',\n",
       "   'function': {'arguments': '{\"path\":\"weather.txt\",\"b\":\"The temperature difference between the poles and the equator is primarily due to the angle of the Sun\\'s rays and the distribution of solar energy. Here\\'s an explanation:\\\\n\\\\n1. Angle of Sun\\'s Rays: Near the equator, the Sun\\'s rays are more direct, meaning they cover a shorter distance through the atmosphere. This results in a higher concentration of solar energy and greater heating. At the poles, the Sun\\'s rays are at a much lower angle, leading to a more scattered distribution of solar energy and less heating.\\\\n\\\\n2. Length of Daylight: Near the poles, the length of daylight varies significantly throughout the year, with extensive periods of continuous darkness during the winter months. This leads to longer and harsher winters with minimal heating from the Sun.\\\\n\\\\n3. Atmospheric Circulation: The Earth\\'s rotation and the tilt of its axis create global wind patterns. Near the equator, warm air rises and moves toward the poles, while cold air sinks and flows towards the equator. This results in a general distribution of warmer air toward the poles and cooler air towards the equator.\"}',\n",
       "    'name': 'write'},\n",
       "   'type': 'function'}]}"
      ]
     },
     "execution_count": 86,
     "metadata": {},
     "output_type": "execute_result"
    }
   ],
   "source": []
  },
  {
   "cell_type": "code",
   "execution_count": 101,
   "id": "b706f78a-0a7a-4c63-aed6-f6df18e9f401",
   "metadata": {},
   "outputs": [
    {
     "name": "stdout",
     "output_type": "stream",
     "text": [
      "Calling tool 'write'\n"
     ]
    },
    {
     "data": {
      "text/plain": [
       "[{'role': 'user',\n",
       "  'content': 'Why is the weather colder near the poles than near the equator? Explain it to me, then save your answer to the file weather.txt'},\n",
       " {'role': 'assistant',\n",
       "  'content': 'The temperature difference between the poles and the equator is primarily due to the angle of the Sun\\'s rays and the distribution of solar energy. Here\\'s an explanation:\\n\\n1. Angle of Sun\\'s Rays: Near the equator, the Sun\\'s rays are more direct, meaning they cover a shorter distance through the atmosphere. This results in a higher concentration of solar energy and greater heating. At the poles, the Sun\\'s rays are at a much lower angle, leading to a more scattered distribution of solar energy and less heating.\\n\\n2. Length of Daylight: Near the poles, the length of daylight varies significantly throughout the year, with extensive periods of continuous darkness during the winter months. This leads to longer and harsher winters with minimal heating from the Sun.\\n\\n3. Atmospheric Circulation: The Earth\\'s rotation and the tilt of its axis create global wind patterns. Near the equator, warm air rises and moves toward the poles, while cold air sinks and flows towards the equator. This results in a general distribution of warmer air toward the poles and cooler air towards the equator.\\n\\nI will now save this answer to the file \"weather.txt.\"'},\n",
       " {'content': '',\n",
       "  'function_call': None,\n",
       "  'role': 'assistant',\n",
       "  'tool_calls': [{'index': 0,\n",
       "    'id': 'call_FkLSYp1SdA67yPrTu4VtpkRt',\n",
       "    'function': {'arguments': '{\"path\":\"weather.txt\",\"b\":\"The temperature difference between the poles and the equator is primarily due to the angle of the Sun\\'s rays and the distribution of solar energy. Here\\'s an explanation:\\\\n\\\\n1. Angle of Sun\\'s Rays: Near the equator, the Sun\\'s rays are more direct, meaning they cover a shorter distance through the atmosphere. This results in a higher concentration of solar energy and greater heating. At the poles, the Sun\\'s rays are at a much lower angle, leading to a more scattered distribution of solar energy and less heating.\\\\n\\\\n2. Length of Daylight: Near the poles, the length of daylight varies significantly throughout the year, with extensive periods of continuous darkness during the winter months. This leads to longer and harsher winters with minimal heating from the Sun.\\\\n\\\\n3. Atmospheric Circulation: The Earth\\'s rotation and the tilt of its axis create global wind patterns. Near the equator, warm air rises and moves toward the poles, while cold air sinks and flows towards the equator. This results in a general distribution of warmer air toward the poles and cooler air towards the equator.\"}',\n",
       "     'name': 'write'},\n",
       "    'type': 'function'}]},\n",
       " {'tool_call_id': 'call_BN9O4RKyHWIbRT8ABzCPFvmq',\n",
       "  'role': 'tool',\n",
       "  'name': 'write',\n",
       "  'content': 'wrote 610 bytes to weather.txt'}]"
      ]
     },
     "execution_count": 101,
     "metadata": {},
     "output_type": "execute_result"
    }
   ],
   "source": [
    "from copy import deepcopy\n",
    "\n",
    "\n",
    "\n",
    "cmessages = deepcopy(messages)\n",
    "d = deepcopy(chunk).choices[0].delta\n",
    "cmessages.append({'role':'assistant', 'content':d.content})\n",
    "cmessages.extend(call_function(assis, chunk))\n",
    "cmessages"
   ]
  },
  {
   "cell_type": "code",
   "execution_count": 132,
   "id": "c94ffd70-2533-4c9a-9e91-6b18491528a8",
   "metadata": {},
   "outputs": [
    {
     "name": "stdout",
     "output_type": "stream",
     "text": [
      "Sure, I can help explain that. The Earth's shape and its axis tilt are two key factors that influence the temperature variations between the poles and the equator. In simple terms, the equator receives more direct sunlight and heat from the sun, while the poles receive sunlight at a much lower angle.\n",
      "\n",
      "At the equator, the sun's rays strike the Earth's surface almost perpendicularly, providing greater heat and energy. This proximity to the sun leads to higher temperatures in these regions.\n",
      "\n",
      "Conversely, near the poles, the sun's rays strike the Earth's surface at a sharp angle, causing the sunlight to be spread out over a larger area. This results in lower temperatures, as the same amount of sunlight and heat is dispersed over a larger area.\n",
      "\n",
      "I will save this explanation to the file \"weather.txt\" for you.Calling tool 'write'\n",
      "The explanation has been saved to the file \"weather.txt.\" If you have any further questions or if there's anything else I can assist you with, feel free to ask!"
     ]
    },
    {
     "data": {
      "text/plain": [
       "{'role': 'assistant',\n",
       " 'content': 'The explanation has been saved to the file \"weather.txt.\" If you have any further questions or if there\\'s anything else I can assist you with, feel free to ask!'}"
      ]
     },
     "execution_count": 132,
     "metadata": {},
     "output_type": "execute_result"
    }
   ],
   "source": [
    "assis = Assistant(tool, cache=rc)\n",
    "assis.run('Why is the weather colder near the poles than near the equator? '+\n",
    "          'Explain it to me, then save your answer to the file weather.tx')\n"
   ]
  },
  {
   "cell_type": "code",
   "execution_count": null,
   "id": "bd917e4a-77d2-43fb-b3c0-23211d8bb1eb",
   "metadata": {},
   "outputs": [],
   "source": [
    "assis.run('show me what you wrot"
   ]
  },
  {
   "cell_type": "code",
   "execution_count": 131,
   "id": "e340bb10-0474-4541-a882-85fdb8395d78",
   "metadata": {},
   "outputs": [],
   "source": [
    "self = assis\n",
    "messages = deepcopy(self.request_messages())\n",
    "del messages[2]['function_call']\n",
    "g = self.client.chat.completions.create(\n",
    "                messages=messages,\n",
    "                tools=self.tools.specification(),\n",
    "                model=self.model,\n",
    "                stream=True,\n",
    "                timeout=10\n",
    "            )"
   ]
  }
 ],
 "metadata": {
  "kernelspec": {
   "display_name": "Python 3 (ipykernel)",
   "language": "python",
   "name": "python3"
  },
  "language_info": {
   "codemirror_mode": {
    "name": "ipython",
    "version": 3
   },
   "file_extension": ".py",
   "mimetype": "text/x-python",
   "name": "python",
   "nbconvert_exporter": "python",
   "pygments_lexer": "ipython3",
   "version": "3.11.6"
  }
 },
 "nbformat": 4,
 "nbformat_minor": 5
}
